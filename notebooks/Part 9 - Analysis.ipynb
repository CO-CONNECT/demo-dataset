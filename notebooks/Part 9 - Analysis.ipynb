{
 "cells": [
  {
   "cell_type": "markdown",
   "metadata": {},
   "source": [
    "The CommonDataModel has features to join and filter the CDM tables it contains, which can be used for analysis"
   ]
  },
  {
   "cell_type": "code",
   "execution_count": 1,
   "metadata": {},
   "outputs": [],
   "source": [
    "import matplotlib.pyplot as plt\n",
    "import coconnect\n",
    "coconnect.params['debug_level'] = 0\n",
    "import glob"
   ]
  },
  {
   "cell_type": "code",
   "execution_count": 2,
   "metadata": {},
   "outputs": [
    {
     "data": {
      "text/html": [
       "<div>\n",
       "<style scoped>\n",
       "    .dataframe tbody tr th:only-of-type {\n",
       "        vertical-align: middle;\n",
       "    }\n",
       "\n",
       "    .dataframe tbody tr th {\n",
       "        vertical-align: top;\n",
       "    }\n",
       "\n",
       "    .dataframe thead th {\n",
       "        text-align: right;\n",
       "    }\n",
       "</style>\n",
       "<table border=\"1\" class=\"dataframe\">\n",
       "  <thead>\n",
       "    <tr style=\"text-align: right;\">\n",
       "      <th></th>\n",
       "      <th>gender_concept_id</th>\n",
       "      <th>year_of_birth</th>\n",
       "      <th>month_of_birth</th>\n",
       "      <th>day_of_birth</th>\n",
       "      <th>birth_datetime</th>\n",
       "      <th>gender_source_value</th>\n",
       "      <th>gender_source_concept_id</th>\n",
       "    </tr>\n",
       "    <tr>\n",
       "      <th>person_id</th>\n",
       "      <th></th>\n",
       "      <th></th>\n",
       "      <th></th>\n",
       "      <th></th>\n",
       "      <th></th>\n",
       "      <th></th>\n",
       "      <th></th>\n",
       "    </tr>\n",
       "  </thead>\n",
       "  <tbody>\n",
       "    <tr>\n",
       "      <th>99481</th>\n",
       "      <td>8507</td>\n",
       "      <td>1947</td>\n",
       "      <td>7</td>\n",
       "      <td>20</td>\n",
       "      <td>1947-07-20 00:00:00.000000</td>\n",
       "      <td>Male</td>\n",
       "      <td>8507</td>\n",
       "    </tr>\n",
       "    <tr>\n",
       "      <th>99482</th>\n",
       "      <td>8507</td>\n",
       "      <td>1991</td>\n",
       "      <td>7</td>\n",
       "      <td>9</td>\n",
       "      <td>1991-07-09 00:00:00.000000</td>\n",
       "      <td>Male</td>\n",
       "      <td>8507</td>\n",
       "    </tr>\n",
       "    <tr>\n",
       "      <th>99483</th>\n",
       "      <td>8507</td>\n",
       "      <td>1929</td>\n",
       "      <td>7</td>\n",
       "      <td>24</td>\n",
       "      <td>1929-07-24 00:00:00.000000</td>\n",
       "      <td>Male</td>\n",
       "      <td>8507</td>\n",
       "    </tr>\n",
       "    <tr>\n",
       "      <th>99484</th>\n",
       "      <td>8507</td>\n",
       "      <td>1964</td>\n",
       "      <td>7</td>\n",
       "      <td>15</td>\n",
       "      <td>1964-07-15 00:00:00.000000</td>\n",
       "      <td>Male</td>\n",
       "      <td>8507</td>\n",
       "    </tr>\n",
       "    <tr>\n",
       "      <th>99485</th>\n",
       "      <td>8507</td>\n",
       "      <td>1911</td>\n",
       "      <td>7</td>\n",
       "      <td>29</td>\n",
       "      <td>1911-07-29 00:00:00.000000</td>\n",
       "      <td>Male</td>\n",
       "      <td>8507</td>\n",
       "    </tr>\n",
       "    <tr>\n",
       "      <th>...</th>\n",
       "      <td>...</td>\n",
       "      <td>...</td>\n",
       "      <td>...</td>\n",
       "      <td>...</td>\n",
       "      <td>...</td>\n",
       "      <td>...</td>\n",
       "      <td>...</td>\n",
       "    </tr>\n",
       "    <tr>\n",
       "      <th>198957</th>\n",
       "      <td>8532</td>\n",
       "      <td>1960</td>\n",
       "      <td>7</td>\n",
       "      <td>16</td>\n",
       "      <td>1960-07-16 00:00:00.000000</td>\n",
       "      <td>Female</td>\n",
       "      <td>8532</td>\n",
       "    </tr>\n",
       "    <tr>\n",
       "      <th>198958</th>\n",
       "      <td>8532</td>\n",
       "      <td>1982</td>\n",
       "      <td>7</td>\n",
       "      <td>11</td>\n",
       "      <td>1982-07-11 00:00:00.000000</td>\n",
       "      <td>Female</td>\n",
       "      <td>8532</td>\n",
       "    </tr>\n",
       "    <tr>\n",
       "      <th>198959</th>\n",
       "      <td>8532</td>\n",
       "      <td>1945</td>\n",
       "      <td>7</td>\n",
       "      <td>20</td>\n",
       "      <td>1945-07-20 00:00:00.000000</td>\n",
       "      <td>Female</td>\n",
       "      <td>8532</td>\n",
       "    </tr>\n",
       "    <tr>\n",
       "      <th>198960</th>\n",
       "      <td>8532</td>\n",
       "      <td>1969</td>\n",
       "      <td>7</td>\n",
       "      <td>14</td>\n",
       "      <td>1969-07-14 00:00:00.000000</td>\n",
       "      <td>Female</td>\n",
       "      <td>8532</td>\n",
       "    </tr>\n",
       "    <tr>\n",
       "      <th>198961</th>\n",
       "      <td>8532</td>\n",
       "      <td>1975</td>\n",
       "      <td>7</td>\n",
       "      <td>13</td>\n",
       "      <td>1975-07-13 00:00:00.000000</td>\n",
       "      <td>Female</td>\n",
       "      <td>8532</td>\n",
       "    </tr>\n",
       "  </tbody>\n",
       "</table>\n",
       "<p>99481 rows × 7 columns</p>\n",
       "</div>"
      ],
      "text/plain": [
       "           gender_concept_id  year_of_birth  month_of_birth  day_of_birth  \\\n",
       "person_id                                                                   \n",
       "99481                   8507           1947               7            20   \n",
       "99482                   8507           1991               7             9   \n",
       "99483                   8507           1929               7            24   \n",
       "99484                   8507           1964               7            15   \n",
       "99485                   8507           1911               7            29   \n",
       "...                      ...            ...             ...           ...   \n",
       "198957                  8532           1960               7            16   \n",
       "198958                  8532           1982               7            11   \n",
       "198959                  8532           1945               7            20   \n",
       "198960                  8532           1969               7            14   \n",
       "198961                  8532           1975               7            13   \n",
       "\n",
       "                       birth_datetime gender_source_value  \\\n",
       "person_id                                                   \n",
       "99481      1947-07-20 00:00:00.000000                Male   \n",
       "99482      1991-07-09 00:00:00.000000                Male   \n",
       "99483      1929-07-24 00:00:00.000000                Male   \n",
       "99484      1964-07-15 00:00:00.000000                Male   \n",
       "99485      1911-07-29 00:00:00.000000                Male   \n",
       "...                               ...                 ...   \n",
       "198957     1960-07-16 00:00:00.000000              Female   \n",
       "198958     1982-07-11 00:00:00.000000              Female   \n",
       "198959     1945-07-20 00:00:00.000000              Female   \n",
       "198960     1969-07-14 00:00:00.000000              Female   \n",
       "198961     1975-07-13 00:00:00.000000              Female   \n",
       "\n",
       "           gender_source_concept_id  \n",
       "person_id                            \n",
       "99481                          8507  \n",
       "99482                          8507  \n",
       "99483                          8507  \n",
       "99484                          8507  \n",
       "99485                          8507  \n",
       "...                             ...  \n",
       "198957                         8532  \n",
       "198958                         8532  \n",
       "198959                         8532  \n",
       "198960                         8532  \n",
       "198961                         8532  \n",
       "\n",
       "[99481 rows x 7 columns]"
      ]
     },
     "execution_count": 2,
     "metadata": {},
     "output_type": "execute_result"
    }
   ],
   "source": [
    "inputs = coconnect.tools.load_tsv(glob.glob(\"temp/1/*.tsv\"),dtype=None)\n",
    "cdm = coconnect.cdm.CommonDataModel.load(inputs=inputs,\n",
    "                                         do_mask_person_id=False,\n",
    "                                         format_level=0)\n",
    "cdm['person'].dropna(axis=1)"
   ]
  },
  {
   "cell_type": "code",
   "execution_count": 3,
   "metadata": {
    "scrolled": false
   },
   "outputs": [
    {
     "data": {
      "text/html": [
       "<div>\n",
       "<style scoped>\n",
       "    .dataframe tbody tr th:only-of-type {\n",
       "        vertical-align: middle;\n",
       "    }\n",
       "\n",
       "    .dataframe tbody tr th {\n",
       "        vertical-align: top;\n",
       "    }\n",
       "\n",
       "    .dataframe thead th {\n",
       "        text-align: right;\n",
       "    }\n",
       "</style>\n",
       "<table border=\"1\" class=\"dataframe\">\n",
       "  <thead>\n",
       "    <tr style=\"text-align: right;\">\n",
       "      <th></th>\n",
       "      <th>year_of_birth</th>\n",
       "      <th>gender_concept_id</th>\n",
       "      <th>observation_source_value</th>\n",
       "      <th>observation_datetime</th>\n",
       "    </tr>\n",
       "    <tr>\n",
       "      <th>person_id</th>\n",
       "      <th></th>\n",
       "      <th></th>\n",
       "      <th></th>\n",
       "      <th></th>\n",
       "    </tr>\n",
       "  </thead>\n",
       "  <tbody>\n",
       "    <tr>\n",
       "      <th>99491</th>\n",
       "      <td>1952</td>\n",
       "      <td>8507</td>\n",
       "      <td>8.07351609289685</td>\n",
       "      <td>2021-06-10 00:00:00.000000</td>\n",
       "    </tr>\n",
       "    <tr>\n",
       "      <th>99504</th>\n",
       "      <td>1940</td>\n",
       "      <td>8507</td>\n",
       "      <td>19.28425</td>\n",
       "      <td>2023-03-15 00:00:00.000000</td>\n",
       "    </tr>\n",
       "    <tr>\n",
       "      <th>99504</th>\n",
       "      <td>1940</td>\n",
       "      <td>8507</td>\n",
       "      <td>18.56546</td>\n",
       "      <td>2021-09-28 00:00:00.000000</td>\n",
       "    </tr>\n",
       "    <tr>\n",
       "      <th>99504</th>\n",
       "      <td>1940</td>\n",
       "      <td>8507</td>\n",
       "      <td>28.028697</td>\n",
       "      <td>2022-01-20 00:00:00.000000</td>\n",
       "    </tr>\n",
       "    <tr>\n",
       "      <th>99504</th>\n",
       "      <td>1940</td>\n",
       "      <td>8507</td>\n",
       "      <td>0.8493225387535804</td>\n",
       "      <td>2021-02-21 00:00:00.000000</td>\n",
       "    </tr>\n",
       "    <tr>\n",
       "      <th>...</th>\n",
       "      <td>...</td>\n",
       "      <td>...</td>\n",
       "      <td>...</td>\n",
       "      <td>...</td>\n",
       "    </tr>\n",
       "    <tr>\n",
       "      <th>154432</th>\n",
       "      <td>1953</td>\n",
       "      <td>8507</td>\n",
       "      <td>26.204017</td>\n",
       "      <td>2022-09-26 00:00:00.000000</td>\n",
       "    </tr>\n",
       "    <tr>\n",
       "      <th>154437</th>\n",
       "      <td>1941</td>\n",
       "      <td>8507</td>\n",
       "      <td>79.855414</td>\n",
       "      <td>2021-03-01 00:00:00.000000</td>\n",
       "    </tr>\n",
       "    <tr>\n",
       "      <th>154437</th>\n",
       "      <td>1941</td>\n",
       "      <td>8507</td>\n",
       "      <td>21.61146</td>\n",
       "      <td>2021-11-19 00:00:00.000000</td>\n",
       "    </tr>\n",
       "    <tr>\n",
       "      <th>154437</th>\n",
       "      <td>1941</td>\n",
       "      <td>8507</td>\n",
       "      <td>27.533212</td>\n",
       "      <td>2020-11-22 00:00:00.000000</td>\n",
       "    </tr>\n",
       "    <tr>\n",
       "      <th>154455</th>\n",
       "      <td>1955</td>\n",
       "      <td>8507</td>\n",
       "      <td>19.99172</td>\n",
       "      <td>2021-03-16 00:00:00.000000</td>\n",
       "    </tr>\n",
       "  </tbody>\n",
       "</table>\n",
       "<p>15338 rows × 4 columns</p>\n",
       "</div>"
      ],
      "text/plain": [
       "           year_of_birth  gender_concept_id observation_source_value  \\\n",
       "person_id                                                              \n",
       "99491               1952               8507         8.07351609289685   \n",
       "99504               1940               8507                 19.28425   \n",
       "99504               1940               8507                 18.56546   \n",
       "99504               1940               8507                28.028697   \n",
       "99504               1940               8507       0.8493225387535804   \n",
       "...                  ...                ...                      ...   \n",
       "154432              1953               8507                26.204017   \n",
       "154437              1941               8507                79.855414   \n",
       "154437              1941               8507                 21.61146   \n",
       "154437              1941               8507                27.533212   \n",
       "154455              1955               8507                 19.99172   \n",
       "\n",
       "                 observation_datetime  \n",
       "person_id                              \n",
       "99491      2021-06-10 00:00:00.000000  \n",
       "99504      2023-03-15 00:00:00.000000  \n",
       "99504      2021-09-28 00:00:00.000000  \n",
       "99504      2022-01-20 00:00:00.000000  \n",
       "99504      2021-02-21 00:00:00.000000  \n",
       "...                               ...  \n",
       "154432     2022-09-26 00:00:00.000000  \n",
       "154437     2021-03-01 00:00:00.000000  \n",
       "154437     2021-11-19 00:00:00.000000  \n",
       "154437     2020-11-22 00:00:00.000000  \n",
       "154455     2021-03-16 00:00:00.000000  \n",
       "\n",
       "[15338 rows x 4 columns]"
      ]
     },
     "execution_count": 3,
     "metadata": {},
     "output_type": "execute_result"
    }
   ],
   "source": [
    "df = cdm.filter({\n",
    "    'person':{\n",
    "                'gender_concept_id': lambda x: x == 8507,\n",
    "                'year_of_birth': lambda x: x < 1970\n",
    "            },\n",
    "    'observation':{\n",
    "                'observation_concept_id':lambda x: x == 4288455,\n",
    "                  }\n",
    "     },\n",
    "    {'person_id':True,'year_of_birth':True,\n",
    "     'gender_concept_id':True,'observation_source_value':True,\n",
    "     'observation_datetime':True}\n",
    "    ).dropna(axis=1)\n",
    "df"
   ]
  },
  {
   "cell_type": "code",
   "execution_count": 4,
   "metadata": {},
   "outputs": [
    {
     "data": {
      "image/png": "[encoded data removed]",
      "text/plain": [
       "<Figure size 432x288 with 1 Axes>"
      ]
     },
     "metadata": {
      "needs_background": "light"
     },
     "output_type": "display_data"
    }
   ],
   "source": [
    "df['observation_source_value'].astype(float).plot.hist()\n",
    "plt.xlabel('IgG Level')\n",
    "plt.yscale('log')\n",
    "plt.show();"
   ]
  },
  {
   "cell_type": "code",
   "execution_count": 5,
   "metadata": {},
   "outputs": [],
   "source": [
    "import scipy.stats"
   ]
  },
  {
   "cell_type": "code",
   "execution_count": 6,
   "metadata": {},
   "outputs": [
    {
     "data": {
      "text/plain": [
       "<function __main__.get_serology_analysis.<locals>.serology_analysis(self)>"
      ]
     },
     "execution_count": 6,
     "metadata": {},
     "output_type": "execute_result"
    }
   ],
   "source": [
    "def get_serology_analysis(_filter):\n",
    "    def serology_analysis(self):\n",
    "        df = self.filter(_filter)\n",
    "        age = 2022 - df['year_of_birth']\n",
    "        igg = df['observation_source_value'].astype(float)\n",
    "        res = scipy.stats.linregress(x=age,y=igg)\n",
    "        return res\n",
    "    return serology_analysis\n",
    "\n",
    "ana = get_serology_analysis({'person':{\n",
    "                'gender_concept_id': lambda x: x == 8507,\n",
    "                'year_of_birth': lambda x: x < 1970\n",
    "            },\n",
    "            'observation':{\n",
    "                'observation_concept_id':lambda x: x == 4288455,\n",
    "             }\n",
    "             })\n",
    "ana"
   ]
  },
  {
   "cell_type": "code",
   "execution_count": 7,
   "metadata": {},
   "outputs": [
    {
     "name": "stdout",
     "output_type": "stream",
     "text": [
      "{'person': {'gender_concept_id': <function <lambda> at 0x12b7e6790>, 'year_of_birth': <function <lambda> at 0x12b7e6820>}, 'observation': {'observation_concept_id': <function <lambda> at 0x12b7e68b0>}}\n"
     ]
    },
    {
     "data": {
      "text/plain": [
       "LinregressResult(slope=0.011092183959903157, intercept=36.464634787039635, rvalue=0.003934806250907787, pvalue=0.6260635621347177, stderr=0.022763251616781152, intercept_stderr=1.6696905891530402)"
      ]
     },
     "execution_count": 7,
     "metadata": {},
     "output_type": "execute_result"
    }
   ],
   "source": [
    "cdm.run_analysis(ana)"
   ]
  },
  {
   "cell_type": "code",
   "execution_count": 8,
   "metadata": {},
   "outputs": [
    {
     "data": {
      "text/plain": [
       "[(1930, 1950), (1950, 1970), (1970, 1990), (1990, 2010), (2010, 2030)]"
      ]
     },
     "execution_count": 8,
     "metadata": {},
     "output_type": "execute_result"
    }
   ],
   "source": [
    "year_of_birth = [(x,x+20) for x in range(1930,2020,20)]\n",
    "year_of_birth"
   ]
  },
  {
   "cell_type": "code",
   "execution_count": 9,
   "metadata": {},
   "outputs": [],
   "source": [
    "genders = [8507,8532]"
   ]
  },
  {
   "cell_type": "code",
   "execution_count": 10,
   "metadata": {},
   "outputs": [],
   "source": [
    "coconnect.params['debug_level'] = 2"
   ]
  },
  {
   "cell_type": "code",
   "execution_count": 11,
   "metadata": {},
   "outputs": [],
   "source": [
    "from itertools import product\n",
    "\n",
    "results = {}\n",
    "for ((year_low,year_high),gender) in product(year_of_birth,genders):\n",
    "    config = {'person':{\n",
    "                'gender_concept_id': lambda x,gender=gender: x == gender,\n",
    "                'year_of_birth': lambda x,year_high=year_high,year_low=year_low: ((x < year_high) & (x > year_low))\n",
    "            },\n",
    "            'observation':{\n",
    "                'observation_concept_id':lambda x : x == 4288455,\n",
    "            }}\n",
    "    \n",
    "    ana = get_serology_analysis(config)\n",
    "    name = f'age_{year_low}_gender_{gender}'\n",
    "    cdm.add_analysis(ana,name)\n",
    "    "
   ]
  },
  {
   "cell_type": "code",
   "execution_count": 12,
   "metadata": {},
   "outputs": [
    {
     "name": "stderr",
     "output_type": "stream",
     "text": [
      "\u001b[32m2022-03-17 11:44:31\u001b[0m - \u001b[34mCommonDataModel\u001b[0m - \u001b[1;37mINFO\u001b[0m - Start thread for <function get_serology_analysis.<locals>.serology_analysis at 0x12b7e69d0> \n",
      "\u001b[32m2022-03-17 11:44:31\u001b[0m - \u001b[34mCommonDataModel\u001b[0m - \u001b[1;37mINFO\u001b[0m - Start thread for <function get_serology_analysis.<locals>.serology_analysis at 0x12b7e6af0> \n",
      "\u001b[32m2022-03-17 11:44:31\u001b[0m - \u001b[34mCommonDataModel\u001b[0m - \u001b[1;37mINFO\u001b[0m - Start thread for <function get_serology_analysis.<locals>.serology_analysis at 0x10c4adca0> \n",
      "\u001b[32m2022-03-17 11:44:31\u001b[0m - \u001b[34mCommonDataModel\u001b[0m - \u001b[1;37mINFO\u001b[0m - Start thread for <function get_serology_analysis.<locals>.serology_analysis at 0x127017550> \n",
      "\u001b[32m2022-03-17 11:44:31\u001b[0m - \u001b[34mCommonDataModel\u001b[0m - \u001b[1;37mINFO\u001b[0m - Start thread for <function get_serology_analysis.<locals>.serology_analysis at 0x12b8251f0> \n",
      "\u001b[32m2022-03-17 11:44:31\u001b[0m - \u001b[34mCommonDataModel\u001b[0m - \u001b[1;37mINFO\u001b[0m - Start thread for <function get_serology_analysis.<locals>.serology_analysis at 0x12b825430> \n",
      "\u001b[32m2022-03-17 11:44:31\u001b[0m - \u001b[34mCommonDataModel\u001b[0m - \u001b[1;37mINFO\u001b[0m - Start thread for <function get_serology_analysis.<locals>.serology_analysis at 0x12b825670> \n",
      "\u001b[32m2022-03-17 11:44:31\u001b[0m - \u001b[34mCommonDataModel\u001b[0m - \u001b[1;37mINFO\u001b[0m - Start thread for <function get_serology_analysis.<locals>.serology_analysis at 0x12b8258b0> \n",
      "\u001b[32m2022-03-17 11:44:31\u001b[0m - \u001b[34mCommonDataModel\u001b[0m - \u001b[1;37mINFO\u001b[0m - Start thread for <function get_serology_analysis.<locals>.serology_analysis at 0x12b825af0> \n",
      "\u001b[32m2022-03-17 11:44:31\u001b[0m - \u001b[34mCommonDataModel\u001b[0m - \u001b[1;37mINFO\u001b[0m - Start thread for <function get_serology_analysis.<locals>.serology_analysis at 0x12b825d30> \n",
      "\u001b[32m2022-03-17 11:44:31\u001b[0m - \u001b[34mCommonDataModel\u001b[0m - \u001b[1;37mINFO\u001b[0m - finished with <Future at 0x12b7f1d30 state=finished returned LinregressResult>\n",
      "\u001b[32m2022-03-17 11:44:31\u001b[0m - \u001b[34mCommonDataModel\u001b[0m - \u001b[1;37mINFO\u001b[0m - finished with <Future at 0x12b7eb760 state=finished returned LinregressResult>\n"
     ]
    },
    {
     "name": "stdout",
     "output_type": "stream",
     "text": [
      "{'person': {'gender_concept_id': <function <lambda> at 0x12b7e6b80>, 'year_of_birth': <function <lambda> at 0x12b7e6d30>}, 'observation': {'observation_concept_id': <function <lambda> at 0x12b7e6e50>}}\n",
      "{'person': {'gender_concept_id': <function <lambda> at 0x12b7af550>, 'year_of_birth': <function <lambda> at 0x12b7afca0>}, 'observation': {'observation_concept_id': <function <lambda> at 0x12b7af3a0>}}\n",
      "{'person': {'gender_concept_id': <function <lambda> at 0x12b7e6c10>, 'year_of_birth': <function <lambda> at 0x12b7e6ca0>}, 'observation': {'observation_concept_id': <function <lambda> at 0x12b7e6dc0>}}\n"
     ]
    },
    {
     "name": "stderr",
     "output_type": "stream",
     "text": [
      "\u001b[32m2022-03-17 11:44:31\u001b[0m - \u001b[34mCommonDataModel\u001b[0m - \u001b[1;37mINFO\u001b[0m - finished with <Future at 0x12b7b3520 state=finished returned LinregressResult>\n",
      "\u001b[32m2022-03-17 11:44:31\u001b[0m - \u001b[34mCommonDataModel\u001b[0m - \u001b[1;37mINFO\u001b[0m - finished with <Future at 0x12b7ebe80 state=finished returned LinregressResult>\n",
      "\u001b[32m2022-03-17 11:44:31\u001b[0m - \u001b[34mCommonDataModel\u001b[0m - \u001b[1;37mINFO\u001b[0m - finished with <Future at 0x12b7eb520 state=finished returned LinregressResult>\n"
     ]
    },
    {
     "name": "stdout",
     "output_type": "stream",
     "text": [
      "{'person': {'gender_concept_id': <function <lambda> at 0x1270175e0>, 'year_of_birth': <function <lambda> at 0x12b8250d0>}, 'observation': {'observation_concept_id': <function <lambda> at 0x12b825160>}}\n",
      "{'person': {'gender_concept_id': <function <lambda> at 0x10c4add30>, 'year_of_birth': <function <lambda> at 0x127017700>}, 'observation': {'observation_concept_id': <function <lambda> at 0x127017670>}}\n"
     ]
    },
    {
     "name": "stderr",
     "output_type": "stream",
     "text": [
      "\u001b[32m2022-03-17 11:44:32\u001b[0m - \u001b[34mCommonDataModel\u001b[0m - \u001b[1;37mINFO\u001b[0m - finished with <Future at 0x12fc717c0 state=finished returned LinregressResult>\n",
      "\u001b[32m2022-03-17 11:44:32\u001b[0m - \u001b[34mCommonDataModel\u001b[0m - \u001b[1;37mINFO\u001b[0m - finished with <Future at 0x12fc71a00 state=finished returned LinregressResult>\n"
     ]
    },
    {
     "name": "stdout",
     "output_type": "stream",
     "text": [
      "{'person': {'gender_concept_id': <function <lambda> at 0x12b825280>, 'year_of_birth': <function <lambda> at 0x12b825310>}, 'observation': {'observation_concept_id': <function <lambda> at 0x12b8253a0>}}\n",
      "{'person': {'gender_concept_id': <function <lambda> at 0x12b8254c0>, 'year_of_birth': <function <lambda> at 0x12b825550>}, 'observation': {'observation_concept_id': <function <lambda> at 0x12b8255e0>}}\n"
     ]
    },
    {
     "name": "stderr",
     "output_type": "stream",
     "text": [
      "\u001b[32m2022-03-17 11:44:32\u001b[0m - \u001b[34mCommonDataModel\u001b[0m - \u001b[1;37mINFO\u001b[0m - finished with <Future at 0x12fc71a90 state=finished returned LinregressResult>\n",
      "\u001b[32m2022-03-17 11:44:32\u001b[0m - \u001b[34mCommonDataModel\u001b[0m - \u001b[1;37mINFO\u001b[0m - finished with <Future at 0x12fc71bb0 state=finished returned LinregressResult>\n",
      "\u001b[32m2022-03-17 11:44:32\u001b[0m - \u001b[34mCommonDataModel\u001b[0m - \u001b[1;37mINFO\u001b[0m - finished with <Future at 0x12fc71c10 state=finished returned LinregressResult>\n"
     ]
    },
    {
     "name": "stdout",
     "output_type": "stream",
     "text": [
      "{'person': {'gender_concept_id': <function <lambda> at 0x12b825700>, 'year_of_birth': <function <lambda> at 0x12b825790>}, 'observation': {'observation_concept_id': <function <lambda> at 0x12b825820>}}\n",
      "{'person': {'gender_concept_id': <function <lambda> at 0x12b825940>, 'year_of_birth': <function <lambda> at 0x12b8259d0>}, 'observation': {'observation_concept_id': <function <lambda> at 0x12b825a60>}}\n",
      "{'person': {'gender_concept_id': <function <lambda> at 0x12b825b80>, 'year_of_birth': <function <lambda> at 0x12b825c10>}, 'observation': {'observation_concept_id': <function <lambda> at 0x12b825ca0>}}\n"
     ]
    },
    {
     "name": "stderr",
     "output_type": "stream",
     "text": [
      "\u001b[32m2022-03-17 11:44:33\u001b[0m - \u001b[34mCommonDataModel\u001b[0m - \u001b[1;37mINFO\u001b[0m - Running analyses took 2.4842209815979004 seconds\n"
     ]
    },
    {
     "data": {
      "text/plain": [
       "{'age_1970_gender_8532': LinregressResult(slope=-0.021243102691067585, intercept=38.6605592995349, rvalue=-0.0027735345372538406, pvalue=0.8565730646304455, stderr=0.11752806051647356, intercept_stderr=5.12179529000808),\n",
       " 'age_2010_gender_8507': LinregressResult(slope=2.222747671362395, intercept=30.554857289137793, rvalue=0.1476221105654006, pvalue=0.07849885496563927, stderr=1.2541363011035291, intercept_stderr=8.70851000749283),\n",
       " 'age_1950_gender_8507': LinregressResult(slope=0.08651316957645126, intercept=31.76984095727331, rvalue=0.011963343280191198, pvalue=0.2699826375281989, stderr=0.07842202056417265, intercept_stderr=4.879702922692328),\n",
       " 'age_1950_gender_8532': LinregressResult(slope=-0.0021204492599500584, intercept=37.86199534709842, rvalue=-0.00029230947740846366, pvalue=0.980840815190395, stderr=0.08829438446144432, intercept_stderr=5.502226140349591),\n",
       " 'age_1930_gender_8507': LinregressResult(slope=-0.09499515639146493, intercept=45.47287206733538, rvalue=-0.012723548452631114, pvalue=0.3725868675098326, stderr=0.10653028539232862, intercept_stderr=8.599723715282593),\n",
       " 'age_1930_gender_8532': LinregressResult(slope=0.16381711474754834, intercept=23.29778889587211, rvalue=0.02254237098155134, pvalue=0.14982145564660512, stderr=0.11372763533063071, intercept_stderr=9.193789043565541),\n",
       " 'age_1990_gender_8532': LinregressResult(slope=0.5105189655376101, intercept=22.84574294726777, rvalue=0.06498259196239221, pvalue=0.03760807774123345, stderr=0.24522825362062264, intercept_stderr=6.277377223461888),\n",
       " 'age_1970_gender_8507': LinregressResult(slope=-0.04634901162674989, intercept=39.08630373589169, rvalue=-0.006316188411851817, pvalue=0.6463085478955369, stderr=0.10099524028927616, intercept_stderr=4.407506272140777),\n",
       " 'age_2010_gender_8532': LinregressResult(slope=1.2407460875977285, intercept=26.569508408879187, rvalue=0.11353252740037253, pvalue=0.19491404560409473, stderr=0.9523000089569639, intercept_stderr=7.245866688309896),\n",
       " 'age_1990_gender_8507': LinregressResult(slope=0.14379436405813106, intercept=34.49125555439144, rvalue=0.018759328081819557, pvalue=0.4827750757834329, stderr=0.20482555368087293, intercept_stderr=5.1495309451280935)}"
      ]
     },
     "execution_count": 12,
     "metadata": {},
     "output_type": "execute_result"
    }
   ],
   "source": [
    "results = cdm.run_analyses()\n",
    "results"
   ]
  },
  {
   "cell_type": "code",
   "execution_count": 13,
   "metadata": {},
   "outputs": [],
   "source": [
    "import numpy as np"
   ]
  },
  {
   "cell_type": "code",
   "execution_count": 15,
   "metadata": {},
   "outputs": [
    {
     "data": {
      "image/png": "[encoded data removed]",
      "text/plain": [
       "<Figure size 432x288 with 1 Axes>"
      ]
     },
     "metadata": {
      "needs_background": "light"
     },
     "output_type": "display_data"
    }
   ],
   "source": [
    "x = np.array([i for i in range(0,500)])\n",
    "for label,res in sorted(results.items()):\n",
    "    plt.plot(x, res.intercept + res.slope*x, label=label)\n",
    "plt.legend(bbox_to_anchor=(1.05, 1))\n",
    "plt.show()"
   ]
  },
  {
   "cell_type": "code",
   "execution_count": 17,
   "metadata": {},
   "outputs": [
    {
     "data": {
      "text/plain": [
       "<AxesSubplot:ylabel='Frequency'>"
      ]
     },
     "execution_count": 17,
     "metadata": {},
     "output_type": "execute_result"
    },
    {
     "data": {
      "image/png": "[encoded data removed]",
      "text/plain": [
       "<Figure size 432x288 with 1 Axes>"
      ]
     },
     "metadata": {
      "needs_background": "light"
     },
     "output_type": "display_data"
    }
   ],
   "source": [
    "config = {'person':{\n",
    "                'year_of_birth': lambda x: ((x < 2030) & (x > 2010))\n",
    "            },\n",
    "            'observation':{\n",
    "                'observation_concept_id':lambda x : x == 4288455,\n",
    "            }}\n",
    "df = cdm.filter(config)\n",
    "df['observation_source_value'].astype(float).plot.hist()"
   ]
  },
  {
   "cell_type": "code",
   "execution_count": null,
   "metadata": {},
   "outputs": [],
   "source": []
  }
 ],
 "metadata": {
  "kernelspec": {
   "display_name": "Python 3",
   "language": "python",
   "name": "python3"
  },
  "language_info": {
   "codemirror_mode": {
    "name": "ipython",
    "version": 3
   },
   "file_extension": ".py",
   "mimetype": "text/x-python",
   "name": "python",
   "nbconvert_exporter": "python",
   "pygments_lexer": "ipython3",
   "version": "3.8.0"
  }
 },
 "nbformat": 4,
 "nbformat_minor": 2
}
